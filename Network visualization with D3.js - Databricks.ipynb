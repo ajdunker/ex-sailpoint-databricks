{
 "cells": [
  {
   "cell_type": "markdown",
   "metadata": {
    "application/vnd.databricks.v1+cell": {
     "cellMetadata": {},
     "inputWidgets": {},
     "nuid": "ff7ced4f-0b97-43c0-96ca-05de08bf70fe",
     "showTitle": false,
     "tableResultSettingsMap": {},
     "title": ""
    }
   },
   "source": [
    "# Network visualization with D3.js\n",
    "---\n",
    "One quick way to identify topics in tweets is to analyze the use of keywords or hashtags systematically. A common approach is to find pairs of hashtags (or words) that are often mentioned together in the same tweets. Visualizing the result such that pairs that often appear together are drawn close to each other gives us a visual way to explore a topic map.\n",
    "\n",
    "In this notebook, you'll learn how to quickly visualize networks using D3.js.\n",
    "\n",
    "You can find a good introduction to the force layout with D3.js here: <a href=\"https://www.d3indepth.com/force-layout/\" target=\"_blank\">Force layout on d3indepth.com</a>\n",
    "\n",
    "Find a collection of examples of what you can do with D3.js here: <a href=\"https://observablehq.com/@d3/gallery\" target=\"_blank\">D3.js gallery</a>"
   ]
  },
  {
   "cell_type": "markdown",
   "metadata": {
    "application/vnd.databricks.v1+cell": {
     "cellMetadata": {},
     "inputWidgets": {},
     "nuid": "6f64e877-282c-4d9e-a8ad-f562d328306c",
     "showTitle": false,
     "tableResultSettingsMap": {},
     "title": ""
    }
   },
   "source": [
    "## 1. Create a view for hashtag pairs"
   ]
  },
  {
   "cell_type": "markdown",
   "metadata": {
    "application/vnd.databricks.v1+cell": {
     "cellMetadata": {},
     "inputWidgets": {},
     "nuid": "744967b9-558c-4c2f-a7d2-a68598cab54e",
     "showTitle": false,
     "tableResultSettingsMap": {},
     "title": ""
    }
   },
   "source": [
    "### Explode hashtag array and create a view"
   ]
  },
  {
   "cell_type": "code",
   "execution_count": 0,
   "metadata": {
    "application/vnd.databricks.v1+cell": {
     "cellMetadata": {},
     "inputWidgets": {},
     "nuid": "5a4a3112-1a23-4036-86f6-547cfd55dd91",
     "showTitle": false,
     "tableResultSettingsMap": {},
     "title": ""
    }
   },
   "outputs": [],
   "source": [
    "create or replace view hashtags as\n",
    "  -- Make all hashtags lower case for easier comparison\n",
    "  select id\n",
    "        ,lower(hashtag) as hashtag\n",
    "        ,created_at\n",
    "  from (\n",
    "    select id, explode(hashtags) as hashtag, created_at\n",
    "    from tweets\n",
    "  )"
   ]
  },
  {
   "cell_type": "markdown",
   "metadata": {
    "application/vnd.databricks.v1+cell": {
     "cellMetadata": {},
     "inputWidgets": {},
     "nuid": "2e4ca77e-4192-42ee-8f91-1e41ae87be88",
     "showTitle": false,
     "tableResultSettingsMap": {},
     "title": ""
    }
   },
   "source": [
    "### Create a view for hashtag pairs"
   ]
  },
  {
   "cell_type": "code",
   "execution_count": 0,
   "metadata": {
    "application/vnd.databricks.v1+cell": {
     "cellMetadata": {},
     "inputWidgets": {},
     "nuid": "ecf94470-b1be-4cbf-b2e5-601e08208d85",
     "showTitle": false,
     "tableResultSettingsMap": {},
     "title": ""
    }
   },
   "outputs": [],
   "source": [
    "create or replace view hashtag_pairs as\n",
    "select distinct\n",
    "   id\n",
    "   ,case when h1 > h2 then h2 else h1 end as h1\n",
    "   ,case when h1 < h2 then h2 else h1 end as h2 \n",
    "   from (\n",
    "     select h1.id\n",
    "           ,h1.hashtag as h1\n",
    "           ,h2.hashtag as h2 \n",
    "     from \n",
    "        (select id, hashtag from hashtags where year(created_at) = '2020') h1\n",
    "     inner join \n",
    "        (select id, hashtag from hashtags where year(created_at) = '2020') h2\n",
    "     on h1.id = h2.id\n",
    "     and h1.hashtag <> h2.hashtag\n",
    "  )"
   ]
  },
  {
   "cell_type": "code",
   "execution_count": 0,
   "metadata": {
    "application/vnd.databricks.v1+cell": {
     "cellMetadata": {},
     "inputWidgets": {},
     "nuid": "d78d9aac-8e2b-4348-948a-59780313eace",
     "showTitle": false,
     "tableResultSettingsMap": {},
     "title": ""
    }
   },
   "outputs": [],
   "source": [
    "select * from hashtag_pairs"
   ]
  },
  {
   "cell_type": "markdown",
   "metadata": {
    "application/vnd.databricks.v1+cell": {
     "cellMetadata": {},
     "inputWidgets": {},
     "nuid": "d23db7f7-a6c0-4ae4-9350-89bfff988d85",
     "showTitle": false,
     "tableResultSettingsMap": {},
     "title": ""
    }
   },
   "source": [
    "## 2. Export the nodes with SQL"
   ]
  },
  {
   "cell_type": "markdown",
   "metadata": {
    "application/vnd.databricks.v1+cell": {
     "cellMetadata": {},
     "inputWidgets": {},
     "nuid": "e693594f-aa6d-4dae-ae3d-8264d0e80db3",
     "showTitle": false,
     "tableResultSettingsMap": {},
     "title": ""
    }
   },
   "source": [
    "### Create a view to extract the nodes"
   ]
  },
  {
   "cell_type": "code",
   "execution_count": 0,
   "metadata": {
    "application/vnd.databricks.v1+cell": {
     "cellMetadata": {},
     "inputWidgets": {},
     "nuid": "0607aca4-249f-4f62-8dcc-65efc1ec6a6b",
     "showTitle": false,
     "tableResultSettingsMap": {},
     "title": ""
    }
   },
   "outputs": [],
   "source": [
    "create or replace view nodes as\n",
    "select hashtag as `id`\n",
    "      ,count(1) as `size`\n",
    "from hashtags\n",
    "where year(created_at) = '2020'\n",
    "group by hashtag\n",
    "-- Only hashtags that occured more than n times\n",
    "having count(1) > 10"
   ]
  },
  {
   "cell_type": "markdown",
   "metadata": {
    "application/vnd.databricks.v1+cell": {
     "cellMetadata": {},
     "inputWidgets": {},
     "nuid": "dc0489f6-ea56-410c-ac7a-8b6a999de6cf",
     "showTitle": false,
     "tableResultSettingsMap": {},
     "title": ""
    }
   },
   "source": [
    "### Convert nodes to JSON"
   ]
  },
  {
   "cell_type": "code",
   "execution_count": 0,
   "metadata": {
    "application/vnd.databricks.v1+cell": {
     "cellMetadata": {},
     "inputWidgets": {},
     "nuid": "24dfccc9-3ada-4708-a10d-d5b10212e3d4",
     "showTitle": false,
     "tableResultSettingsMap": {},
     "title": ""
    }
   },
   "outputs": [],
   "source": [
    "%python\n",
    "import json\n",
    "df = spark.sql('select id, size from nodes')\n",
    "nodes = df.toJSON().map(lambda j: json.loads(j)).collect()\n",
    "#print(nodes)"
   ]
  },
  {
   "cell_type": "markdown",
   "metadata": {
    "application/vnd.databricks.v1+cell": {
     "cellMetadata": {},
     "inputWidgets": {},
     "nuid": "e61c844c-6f86-44be-a094-34761f88e6b4",
     "showTitle": false,
     "tableResultSettingsMap": {},
     "title": ""
    }
   },
   "source": [
    "## 3. Export the edges with SQL"
   ]
  },
  {
   "cell_type": "markdown",
   "metadata": {
    "application/vnd.databricks.v1+cell": {
     "cellMetadata": {},
     "inputWidgets": {},
     "nuid": "cdd03ff8-c9b1-4696-9d84-8e44e473aa39",
     "showTitle": false,
     "tableResultSettingsMap": {},
     "title": ""
    }
   },
   "source": [
    "### Create a view to extract the edges"
   ]
  },
  {
   "cell_type": "code",
   "execution_count": 0,
   "metadata": {
    "application/vnd.databricks.v1+cell": {
     "cellMetadata": {},
     "inputWidgets": {},
     "nuid": "9c6ea9ca-604f-430a-96a7-a9101f558a2a",
     "showTitle": false,
     "tableResultSettingsMap": {},
     "title": ""
    }
   },
   "outputs": [],
   "source": [
    "create or replace view edges as\n",
    "select \n",
    "      h1 as `source`\n",
    "     ,h2 as `target`\n",
    "     ,count(1) as `weight`\n",
    "from hashtag_pairs \n",
    "where h1 in (select id from nodes)\n",
    "and h2 in (select id from nodes)\n",
    "group by h1, h2\n",
    "order by count(1) desc"
   ]
  },
  {
   "cell_type": "markdown",
   "metadata": {
    "application/vnd.databricks.v1+cell": {
     "cellMetadata": {},
     "inputWidgets": {},
     "nuid": "9548a5d6-07ee-4a05-88dd-216671065ad4",
     "showTitle": false,
     "tableResultSettingsMap": {},
     "title": ""
    }
   },
   "source": [
    "### Convert edges to JSON"
   ]
  },
  {
   "cell_type": "code",
   "execution_count": 0,
   "metadata": {
    "application/vnd.databricks.v1+cell": {
     "cellMetadata": {},
     "inputWidgets": {},
     "nuid": "796e4470-1b03-4303-8f78-50d0678f413d",
     "showTitle": false,
     "tableResultSettingsMap": {},
     "title": ""
    }
   },
   "outputs": [],
   "source": [
    "%python\n",
    "import json\n",
    "df = spark.sql('select source, target, weight from edges')\n",
    "edges = df.toJSON().map(lambda j: json.loads(j)).collect()\n",
    "#print(edges)"
   ]
  },
  {
   "cell_type": "markdown",
   "metadata": {
    "application/vnd.databricks.v1+cell": {
     "cellMetadata": {},
     "inputWidgets": {},
     "nuid": "98ce7cb8-9a72-4887-ad2f-d526207dc203",
     "showTitle": false,
     "tableResultSettingsMap": {},
     "title": ""
    }
   },
   "source": [
    "## 4. Create a force layout visulization with D3.js (SVG version)\n",
    "---\n",
    "You will need to play around with the parameters until you find a good fit for your data:<br><br>\n",
    "\n",
    "\n",
    "- `.distance(function(d) { return 2 * (maxWeight  - d.weight); })` - This function determines the physical length between the edges\n",
    "- `.strength(function(d) { return 1 * (d.weight / maxWeight); })` - This function determines elasticity of the connection - how easily does it stretch?\n",
    "- `.force(\"charge\", d3.forceManyBody().strength(-250))` - This function sets the gravity (positive/negative) with which the points attract or repel each other\n",
    "- `.force(\"x\", d3.forceX(width / 2).strength(.01))` - This function (for y respectively) determines the location of a center point and the strength with which each point is attracted to it"
   ]
  },
  {
   "cell_type": "code",
   "execution_count": 0,
   "metadata": {
    "application/vnd.databricks.v1+cell": {
     "cellMetadata": {},
     "inputWidgets": {},
     "nuid": "5ee7c075-a54f-44af-b563-12ce8f22d243",
     "showTitle": false,
     "tableResultSettingsMap": {},
     "title": ""
    }
   },
   "outputs": [],
   "source": [
    "%python\n",
    "html = \"\"\"\n",
    "<!DOCTYPE html>\n",
    "<meta charset=\"utf-8\" />\n",
    "<style>\n",
    "  .links line {\n",
    "    stroke: #999;\n",
    "    stroke-opacity: 0.6;\n",
    "  }\n",
    "\n",
    "  .nodes circle {\n",
    "    stroke: #fff;\n",
    "    stroke-width: 1.5px;\n",
    "  }\n",
    "\n",
    "  text {\n",
    "    font-family: sans-serif;\n",
    "    font-size: 10px;\n",
    "  }\n",
    "</style>\n",
    "<svg width=\"2000\" height=\"1000\"></svg>\n",
    "\n",
    "<script src=\"https://d3js.org/d3.v4.min.js\"></script>\n",
    "<script>\n",
    "  var svg = d3.select(\"svg\"),\n",
    "    width = +svg.attr(\"width\"),\n",
    "    height = +svg.attr(\"height\");\n",
    "\n",
    "  var color = d3.scaleOrdinal(d3.schemeCategory20);\n",
    "\n",
    "  var data = { nodes: %s, edges: %s };\n",
    "\n",
    "  // Get the maximum weight for an edge\n",
    "  var maxWeight = 0;\n",
    "  for(var i = 0; i < data.edges.length; i++) {\n",
    "    if(maxWeight < data.edges[i].weight)\n",
    "      maxWeight = data.edges[i].weight;\n",
    "  }\n",
    "    \n",
    " var simulation = d3\n",
    "    .forceSimulation()\n",
    "    .force(\"link\", d3.forceLink().id(function(d) { return d.id; })\n",
    "             .distance(function(d) { return 2 * (maxWeight  - d.weight); })      \n",
    "             .strength(function(d) { return 1 * (d.weight / maxWeight); })\n",
    "          )\n",
    "    .force(\"charge\", d3.forceManyBody().strength(-250))\n",
    "    .force(\"center\", d3.forceCenter(width / 2, height / 2))\n",
    "    .force(\"x\", d3.forceX(width / 2).strength(.01))\n",
    "    .force(\"y\", d3.forceY(height / 2).strength(.01))\n",
    "    //.force('collision', d3.forceCollide().radius(function(d) { return Math.min(30, d.size) }))\n",
    "\n",
    "\n",
    "  var link = svg\n",
    "    .append(\"g\")\n",
    "    .attr(\"class\", \"links\")\n",
    "    .selectAll(\"line\")\n",
    "    .data(data.edges)\n",
    "    .enter()\n",
    "    .append(\"line\")\n",
    "    .attr(\"stroke-width\", function(d) {\n",
    "        return Math.min(d.weight, 40);\n",
    "    });\n",
    "\n",
    "  var node = svg\n",
    "    .append(\"g\")\n",
    "    .attr(\"class\", \"nodes\")\n",
    "    .selectAll(\"g\")\n",
    "    .data(data.nodes)\n",
    "    .enter()\n",
    "    .append(\"g\");\n",
    "\n",
    "  var circles = node\n",
    "    .append(\"circle\")\n",
    "    .attr(\"r\", function(d) {\n",
    "      return Math.min(30, d.size);\n",
    "    })\n",
    "    .attr(\"fill\", function(d) {\n",
    "      return color(1);\n",
    "    })\n",
    "    .call(\n",
    "      d3\n",
    "        .drag()\n",
    "        .on(\"start\", dragstarted)\n",
    "        .on(\"drag\", dragged)\n",
    "        .on(\"end\", dragended)\n",
    "    );\n",
    "\n",
    "  var lables = node\n",
    "    .append(\"text\")\n",
    "    .text(function(d) {\n",
    "      return d.id;\n",
    "    })\n",
    "    .attr(\"x\", 6)\n",
    "    .attr(\"y\", 3);\n",
    "\n",
    "  node.append(\"title\").text(function(d) {\n",
    "    return d.id;\n",
    "  });\n",
    "\n",
    "  simulation.nodes(data.nodes).on(\"tick\", ticked);\n",
    "\n",
    "  simulation.force(\"link\").links(data.edges);\n",
    "\n",
    "  function ticked() {\n",
    "    link\n",
    "      .attr(\"x1\", function(d) {\n",
    "        return d.source.x;\n",
    "      })\n",
    "      .attr(\"y1\", function(d) {\n",
    "        return d.source.y;\n",
    "      })\n",
    "      .attr(\"x2\", function(d) {\n",
    "        return d.target.x;\n",
    "      })\n",
    "      .attr(\"y2\", function(d) {\n",
    "        return d.target.y;\n",
    "      });\n",
    "\n",
    "    node.attr(\"transform\", function(d) {\n",
    "      return \"translate(\" + d.x + \",\" + d.y + \")\";\n",
    "    });\n",
    "  }\n",
    "\n",
    "  function dragstarted(d) {\n",
    "    if (!d3.event.active) simulation.alphaTarget(0.3).restart();\n",
    "    d.fx = d.x;\n",
    "    d.fy = d.y;\n",
    "  }\n",
    "\n",
    "  function dragged(d) {\n",
    "    d.fx = d3.event.x;\n",
    "    d.fy = d3.event.y;\n",
    "  }\n",
    "\n",
    "  function dragended(d) {\n",
    "    if (!d3.event.active) simulation.alphaTarget(0);\n",
    "    d.fx = null;\n",
    "    d.fy = null;\n",
    "  }  \n",
    "</script>\n",
    "\n",
    "\"\"\" % (nodes, edges)\n",
    "\n",
    "#print(html)\n",
    "displayHTML(html)"
   ]
  },
  {
   "cell_type": "markdown",
   "metadata": {
    "application/vnd.databricks.v1+cell": {
     "cellMetadata": {},
     "inputWidgets": {},
     "nuid": "30d44dd2-c91b-46f3-82c5-d336cdc73ae9",
     "showTitle": false,
     "tableResultSettingsMap": {},
     "title": ""
    }
   },
   "source": [
    "## 5. Create a force layout visulization with D3.js (CANVAS version with zoom)\n",
    "---\n",
    "You will need to play around with the parameters until you find a good fit for your data:<br><br>\n",
    "\n",
    "\n",
    "- `.distance(function(d) { return 2 * (maxWeight  - d.weight); })` - This function determines the physical length between the edges\n",
    "- `.strength(function(d) { return 1 * (d.weight / maxWeight); })` - This function determines elasticity of the connection - how easily does it stretch?\n",
    "- `.force(\"charge\", d3.forceManyBody().strength(-250))` - This function sets the gravity (positive/negative) with which the points attract or repel each other\n",
    "- `.force(\"x\", d3.forceX(width / 2).strength(.01))` - This function (for y respectively) determines the location of a center point and the strength with which each point is attracted to it"
   ]
  },
  {
   "cell_type": "code",
   "execution_count": 0,
   "metadata": {
    "application/vnd.databricks.v1+cell": {
     "cellMetadata": {},
     "inputWidgets": {},
     "nuid": "59028a71-f755-42ee-a980-d109017e4a37",
     "showTitle": false,
     "tableResultSettingsMap": {},
     "title": ""
    }
   },
   "outputs": [],
   "source": [
    "%python\n",
    "html = \"\"\"\n",
    "  <html>\n",
    "  <head>\n",
    "  <meta charset=\"utf-8\" />\n",
    "  <script src=\"https://d3js.org/d3-force.v1.min.js\"></script>\n",
    "  <script src=\"https://d3js.org/d3.v4.min.js\"></script>\n",
    "\n",
    "</head>\n",
    "  <body>\n",
    "\n",
    "    <div id=\"graphDiv\"></div>\n",
    "\n",
    "<hr/>\n",
    "\n",
    "    <button onclick=\"download('png')\">\n",
    "      Download PNG\n",
    "    </button>\n",
    "\n",
    "    <button onclick=\"download('jpg')\">\n",
    "      Download JPG\n",
    "    </button>\n",
    "\n",
    "\n",
    " <script>\n",
    "      var data = { nodes: %s, links: %s };\n",
    "   \n",
    "   \n",
    "      // Get the maximum weight for an edge\n",
    "      var maxWeight = 0;\n",
    "      for (var i = 0; i < data.links.length; i++) {\n",
    "        if (maxWeight < data.links[i].weight) maxWeight = data.links[i].weight;\n",
    "      }\n",
    "\n",
    "      var height = 1000;\n",
    "      var width = 2000;\n",
    "      \n",
    "\n",
    "      // Append the canvas to the HTML document\n",
    "      var graphCanvas = d3\n",
    "        .select(\"#graphDiv\")\n",
    "        .append(\"canvas\")\n",
    "        .attr(\"width\", width + \"px\")\n",
    "        .attr(\"height\", height + \"px\")\n",
    "        .node();\n",
    "\n",
    "      var context = graphCanvas.getContext(\"2d\");\n",
    "\n",
    "      var div = d3\n",
    "        .select(\"body\")\n",
    "        .append(\"div\")\n",
    "        .attr(\"class\", \"tooltip\")\n",
    "        .style(\"opacity\", 0);\n",
    "\n",
    "      var simulation = d3\n",
    "        .forceSimulation()\n",
    "        .force(\n",
    "          \"link\",\n",
    "          d3\n",
    "            .forceLink()\n",
    "            .id(function(d) {\n",
    "              return d.id;\n",
    "            })\n",
    "            .distance(function(d) {\n",
    "              return 2 * (maxWeight - d.weight);\n",
    "            })\n",
    "            .strength(function(d) {\n",
    "              return 1 * (d.weight / maxWeight);;\n",
    "            })\n",
    "        )\n",
    "        .force(\"charge\", d3.forceManyBody().strength(-250))\n",
    "        .force(\"center\", d3.forceCenter(width / 2, height / 2))\n",
    "        .force(\"x\", d3.forceX(width / 2).strength(0.01))\n",
    "        .force(\"y\", d3.forceY(height / 2).strength(0.01))\n",
    "        .alphaTarget(0)\n",
    "        .alphaDecay(0.05);\n",
    "\n",
    "      var transform = d3.zoomIdentity;\n",
    "\n",
    "      initGraph(data);\n",
    "\n",
    "      function initGraph(tempData) {\n",
    "        function zoomed() {\n",
    "          console.log(\"zooming\");\n",
    "          transform = d3.event.transform;\n",
    "          simulationUpdate();\n",
    "        }\n",
    "\n",
    "        d3.select(graphCanvas)\n",
    "          .call(\n",
    "            d3\n",
    "              .drag()\n",
    "              .subject(dragsubject)\n",
    "              .on(\"start\", dragstarted)\n",
    "              .on(\"drag\", dragged)\n",
    "              .on(\"end\", dragended)\n",
    "          )\n",
    "          .call(\n",
    "            d3\n",
    "              .zoom()\n",
    "              .scaleExtent([1 / 10, 8])\n",
    "              .on(\"zoom\", zoomed)\n",
    "          );\n",
    "\n",
    "        function dragsubject() {\n",
    "          var i,\n",
    "            x = transform.invertX(d3.event.x),\n",
    "            y = transform.invertY(d3.event.y),\n",
    "            dx,\n",
    "            dy;\n",
    "          for (i = tempData.nodes.length - 1; i >= 0; --i) {\n",
    "            node = tempData.nodes[i];\n",
    "            dx = x - node.x;\n",
    "            dy = y - node.y;\n",
    "\n",
    "            let radius = Math.min(30, node.size)\n",
    "            if (dx * dx + dy * dy < radius * radius) {\n",
    "              node.x = transform.applyX(node.x);\n",
    "              node.y = transform.applyY(node.y);\n",
    "\n",
    "              return node;\n",
    "            }\n",
    "          }\n",
    "        }\n",
    "\n",
    "        function dragstarted() {\n",
    "          if (!d3.event.active) simulation.alphaTarget(0.3).restart();\n",
    "          d3.event.subject.fx = transform.invertX(d3.event.x);\n",
    "          d3.event.subject.fy = transform.invertY(d3.event.y);\n",
    "        }\n",
    "\n",
    "        function dragged() {\n",
    "          d3.event.subject.fx = transform.invertX(d3.event.x);\n",
    "          d3.event.subject.fy = transform.invertY(d3.event.y);\n",
    "        }\n",
    "\n",
    "        function dragended() {\n",
    "          if (!d3.event.active) simulation.alphaTarget(0);\n",
    "          d3.event.subject.fx = null;\n",
    "          d3.event.subject.fy = null;\n",
    "        }\n",
    "\n",
    "        simulation.nodes(tempData.nodes).on(\"tick\", simulationUpdate);\n",
    "\n",
    "        simulation.force(\"link\").links(tempData.links);\n",
    "\n",
    "        function render() {}\n",
    "\n",
    "        function simulationUpdate() {\n",
    "          context.save();\n",
    "\n",
    "          context.clearRect(0, 0, width, height);\n",
    "          context.translate(transform.x, transform.y);\n",
    "          context.scale(transform.k, transform.k);\n",
    "\n",
    "          // Draw the links\n",
    "          tempData.links.forEach(function(d) {\n",
    "            context.beginPath();\n",
    "            context.lineWidth = Math.min(d.weight, 40);\n",
    "            context.strokeStyle = \"rgba(0, 158, 227, .3)\";\n",
    "            context.moveTo(d.source.x, d.source.y);\n",
    "            context.lineTo(d.target.x, d.target.y);\n",
    "            context.stroke();\n",
    "          });\n",
    "\n",
    "          // Draw the nodes\n",
    "          tempData.nodes.forEach(function(d, i) {\n",
    "            context.beginPath();\n",
    "            context.arc(d.x, d.y, Math.min(30, d.size), 0, 2 * Math.PI, true);\n",
    "            context.fillStyle = \"rgba(0, 158, 227, 0.8)\";\n",
    "            context.fill();\n",
    "            context.fillStyle = \"rgba(0, 0, 0, 1)\";\n",
    "            context.fillText(d.id, d.x + 10, d.y);\n",
    "          });\n",
    "\n",
    "          context.restore();\n",
    "          \n",
    "        }\n",
    "      }\n",
    "      \n",
    "    function download(type) {\n",
    "        var canvas = document.querySelector(\"canvas\");\n",
    "\n",
    "        var imgUrl;\n",
    "        \n",
    "        if (type === \"png\") \n",
    "          imgUrl = canvas.toDataURL(\"image/png\");\n",
    "        else if (type === \"jpg\") \n",
    "          imgUrl = canvas.toDataURL(\"image/png\");\n",
    "\n",
    "        window.open().document.write('<img src=\"' + imgUrl + '\" />');\n",
    "      }\n",
    "    </script>\n",
    "    \n",
    "  </body>\n",
    "</html>\n",
    "\"\"\" % (nodes, edges)\n",
    "\n",
    "#print(html)\n",
    "displayHTML(html)"
   ]
  },
  {
   "cell_type": "markdown",
   "metadata": {
    "application/vnd.databricks.v1+cell": {
     "cellMetadata": {},
     "inputWidgets": {},
     "nuid": "35755493-3d98-48df-a534-b906063d74d0",
     "showTitle": false,
     "tableResultSettingsMap": {},
     "title": ""
    }
   },
   "source": [
    "**NOTE**: Using a canvas element hast two advantages:<br><br>\n",
    "\n",
    "1. It is more performant than SVG and will allow you to visualize more nodes and edges before your browser freezes the simulation\n",
    "2. You can export to JPG or PNG easily. Use the two buttons to open the canvas as images. Note that you need to right-click -> \"Open in new tab\" or copy the image in order to save it to disk."
   ]
  }
 ],
 "metadata": {
  "application/vnd.databricks.v1+notebook": {
   "computePreferences": null,
   "dashboards": [],
   "environmentMetadata": null,
   "inputWidgetPreferences": null,
   "language": "sql",
   "notebookMetadata": {
    "pythonIndentUnit": 2
   },
   "notebookName": "Network visualization with D3.js - Databricks",
   "widgets": {}
  },
  "language_info": {
   "name": "sql"
  }
 },
 "nbformat": 4,
 "nbformat_minor": 0
}
