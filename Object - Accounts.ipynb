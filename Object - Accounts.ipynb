{
 "cells": [
  {
   "cell_type": "code",
   "execution_count": 0,
   "metadata": {
    "application/vnd.databricks.v1+cell": {
     "cellMetadata": {
      "byteLimit": 2048000,
      "rowLimit": 10000
     },
     "inputWidgets": {},
     "nuid": "3e7c3782-5211-4314-a66b-5cb7e4f26a35",
     "showTitle": true,
     "tableResultSettingsMap": {},
     "title": "Python Imports"
    }
   },
   "outputs": [],
   "source": [
    "import requests\n",
    "from datetime import datetime\n",
    "import logging\n",
    "import urllib3\n",
    "\n",
    "import sailpoint\n",
    "import sailpoint.v2024\n",
    "from sailpoint.configuration import (Configuration, ConfigurationParams)\n",
    "from sailpoint.paginator import Paginator\n",
    "\n",
    "from pyspark.sql.functions import lit\n",
    "from pyspark.sql.types import StructType, StructField, StringType, BooleanType, TimestampType, MapType, DateType"
   ]
  },
  {
   "cell_type": "code",
   "execution_count": 0,
   "metadata": {
    "application/vnd.databricks.v1+cell": {
     "cellMetadata": {
      "byteLimit": 2048000,
      "rowLimit": 10000
     },
     "inputWidgets": {},
     "nuid": "e6b7a2a4-6519-4e07-8d2f-ffa9b3d4e69d",
     "showTitle": true,
     "tableResultSettingsMap": {},
     "title": "Configure Logging"
    }
   },
   "outputs": [],
   "source": [
    "logger = logging.getLogger()\n",
    "logger.setLevel(logging.INFO)"
   ]
  },
  {
   "cell_type": "code",
   "execution_count": 0,
   "metadata": {
    "application/vnd.databricks.v1+cell": {
     "cellMetadata": {
      "byteLimit": 2048000,
      "rowLimit": 10000
     },
     "inputWidgets": {},
     "nuid": "0007ce2e-df73-40e8-ab5d-071d2443b6b4",
     "showTitle": true,
     "tableResultSettingsMap": {},
     "title": "Define & Fetch Credentials"
    }
   },
   "outputs": [],
   "source": [
    "tenant = 'devrel-ga-5668'\n",
    "client_name = 'sailpoint-readall-client'\n",
    "secret_name = 'sailpoint-readall-secret'\n",
    "\n",
    "logger.info('Defining API credentials')\n",
    "api_url = f'https://{tenant}.api.identitynow-demo.com'\n",
    "token_url = f'https://{tenant}.api.identitynow-demo.com/oauth/token'\n",
    "client_id = dbutils.secrets.get(scope='sailpoint-devrel', key=client_name)\n",
    "client_secret = dbutils.secrets.get(scope='sailpoint-devrel', key=secret_name)"
   ]
  },
  {
   "cell_type": "code",
   "execution_count": 0,
   "metadata": {
    "application/vnd.databricks.v1+cell": {
     "cellMetadata": {
      "byteLimit": 2048000,
      "rowLimit": 10000
     },
     "inputWidgets": {},
     "nuid": "c967ca62-a553-4adc-87c5-1ff42379dc5c",
     "showTitle": true,
     "tableResultSettingsMap": {},
     "title": "Setup SDK Config"
    }
   },
   "outputs": [],
   "source": [
    "logger.info('Configuring SailPoint SDK')\n",
    "configurationParams = ConfigurationParams()\n",
    "configurationParams.base_url = api_url\n",
    "configurationParams.token_url = token_url\n",
    "configurationParams.client_id = client_id\n",
    "configurationParams.client_secret = client_secret\n",
    "configuration = Configuration(configurationParams)\n",
    "\n",
    "configuration.experimental = True"
   ]
  },
  {
   "cell_type": "code",
   "execution_count": 0,
   "metadata": {
    "application/vnd.databricks.v1+cell": {
     "cellMetadata": {
      "byteLimit": 2048000,
      "rowLimit": 10000
     },
     "inputWidgets": {},
     "nuid": "f3e18f5c-98d8-443f-81d9-9b25fec31e8d",
     "showTitle": true,
     "tableResultSettingsMap": {},
     "title": "Account Methods"
    }
   },
   "outputs": [],
   "source": [
    "async def get_total_account_count(filter):\n",
    "    logger.info('Retrieving total identity count...')\n",
    "    try:\n",
    "        with sailpoint.v2024.ApiClient(configuration) as api_client:\n",
    "            api_instance = sailpoint.v2024.AccountsApi(api_client)\n",
    "            response = api_instance.list_accounts_with_http_info(limit=1, count=True, filters=filter)\n",
    "            return response.headers['X-Total-Count']\n",
    "    except Exception as e:\n",
    "        raise Exception(f'Error Retrieving total account count: {e}')\n",
    "\n",
    "async def get_accounts(total_identity_count, filter):\n",
    "    logger.info('Retrieving accounts...')\n",
    "    try:\n",
    "        with sailpoint.v2024.ApiClient(configuration) as api_client:\n",
    "            api_instance = sailpoint.v2024.AccountsApi(api_client)\n",
    "            accounts = Paginator.paginate(\n",
    "                api_instance.list_accounts,\n",
    "                result_limit=total_account_count,\n",
    "                limit=250\n",
    "            )\n",
    "            logger.info(f'Example account: {accounts[0]}')\n",
    "            return accounts\n",
    "    except Exception as e:\n",
    "        logger.error(f'Error Retrieving accounts: {e}')\n",
    "        raise Exception(e)"
   ]
  },
  {
   "cell_type": "code",
   "execution_count": 0,
   "metadata": {
    "application/vnd.databricks.v1+cell": {
     "cellMetadata": {
      "byteLimit": 2048000,
      "rowLimit": 10000
     },
     "inputWidgets": {},
     "nuid": "5b163491-6c29-4cd2-8da5-1f9e8d16d8c4",
     "showTitle": true,
     "tableResultSettingsMap": {},
     "title": "Fetch Accounts"
    }
   },
   "outputs": [],
   "source": [
    "total_account_count = int(await get_total_account_count(None))\n",
    "logger.info(f'Total Accounts: {total_account_count}')\n",
    "all_accounts = await get_accounts(total_account_count, None)\n",
    "logger.info(f'Total Retrieved Accounts: {len(all_accounts)}')"
   ]
  },
  {
   "cell_type": "code",
   "execution_count": 0,
   "metadata": {
    "application/vnd.databricks.v1+cell": {
     "cellMetadata": {
      "byteLimit": 2048000,
      "rowLimit": 10000
     },
     "inputWidgets": {},
     "nuid": "81cee6ae-518c-4be6-beb9-ddcde5f1fe17",
     "showTitle": true,
     "tableResultSettingsMap": {},
     "title": "Generate Schema"
    }
   },
   "outputs": [],
   "source": [
    "object_schema = StructType(\n",
    "    [\n",
    "        StructField(\"id\", StringType(), True),\n",
    "        StructField(\"name\", StringType(), True),\n",
    "        StructField(\"type\", StringType(), True),\n",
    "    ]\n",
    ")\n",
    "\n",
    "account_schema = StructType([\n",
    "    StructField(\"id\", StringType(), True),\n",
    "    StructField(\"name\", StringType(), True),\n",
    "    StructField(\"created\", TimestampType(), True),\n",
    "    StructField(\"modified\", TimestampType(), True),\n",
    "    StructField(\"source_id\", StringType(), True),\n",
    "    StructField(\"source_name\", StringType(), True),\n",
    "    StructField(\"identity_id\", StringType(), True),\n",
    "    StructField(\"cloud_lifecycle_state\", StringType(), True),\n",
    "    StructField(\"identity_state\", StringType(), True),\n",
    "    StructField(\"connection_type\", StringType(), True),\n",
    "    StructField(\"is_machine\", BooleanType(), True),\n",
    "    StructField(\"attributes\", MapType(StringType(), StringType()), True),\n",
    "    StructField(\"authoritative\", BooleanType(), True),\n",
    "    StructField(\"description\", StringType(), True),\n",
    "    StructField(\"disabled\", BooleanType(), True),\n",
    "    StructField(\"locked\", BooleanType(), True),\n",
    "    StructField(\"native_identity\", StringType(), True),\n",
    "    StructField(\"system_account\", BooleanType(), True),\n",
    "    StructField(\"uncorrelated\", BooleanType(), True),\n",
    "    StructField(\"uuid\", StringType(), True),\n",
    "    StructField(\"manually_correlated\", BooleanType(), True),\n",
    "    StructField(\"has_entitlements\", BooleanType(), True),\n",
    "    StructField(\"identity\", object_schema, True),\n",
    "    StructField(\"source_owner\", object_schema, True),\n",
    "    StructField(\"features\", StringType(), True),\n",
    "    StructField(\"origin\", StringType(), True),\n",
    "    StructField(\"owner_identity\", object_schema, True)\n",
    "])"
   ]
  },
  {
   "cell_type": "code",
   "execution_count": 0,
   "metadata": {
    "application/vnd.databricks.v1+cell": {
     "cellMetadata": {
      "byteLimit": 2048000,
      "rowLimit": 10000
     },
     "inputWidgets": {},
     "nuid": "b4888771-fb7b-4b4d-9ec4-142292d8f047",
     "showTitle": false,
     "tableResultSettingsMap": {},
     "title": ""
    }
   },
   "outputs": [],
   "source": [
    "try:\n",
    "    logger.info('Creating data frame...')\n",
    "    accounts_df = spark.createDataFrame(all_accounts, account_schema)\n",
    "    today = datetime.utcnow().date()\n",
    "    accounts_df = accounts_df.withColumn('day', lit(today))\n",
    "\n",
    "    logger.info('Writing to delta...')\n",
    "    accounts_df.write \\\n",
    "        .format('delta') \\\n",
    "        .mode('append') \\\n",
    "        .partitionBy('day') \\\n",
    "        .saveAsTable(f'`dunker_databricks_space`.devdays.accounts')\n",
    "\n",
    "except Exception as e:\n",
    "    logger.error(f'Error in creating data frame or writing to delta: {e}')"
   ]
  }
 ],
 "metadata": {
  "application/vnd.databricks.v1+notebook": {
   "computePreferences": null,
   "dashboards": [],
   "environmentMetadata": {
    "base_environment": "",
    "environment_version": "2"
   },
   "inputWidgetPreferences": null,
   "language": "python",
   "notebookMetadata": {
    "pythonIndentUnit": 4
   },
   "notebookName": "Object - Accounts",
   "widgets": {}
  },
  "language_info": {
   "name": "python"
  }
 },
 "nbformat": 4,
 "nbformat_minor": 0
}
