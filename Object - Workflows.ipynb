{
 "cells": [
  {
   "cell_type": "code",
   "execution_count": 0,
   "metadata": {
    "application/vnd.databricks.v1+cell": {
     "cellMetadata": {
      "byteLimit": 2048000,
      "rowLimit": 10000
     },
     "inputWidgets": {},
     "nuid": "93e14899-8577-40bd-b4b7-50ebd1d46efd",
     "showTitle": true,
     "tableResultSettingsMap": {},
     "title": "Import Required Libraries"
    }
   },
   "outputs": [],
   "source": [
    "import requests\n",
    "from datetime import datetime\n",
    "import logging\n",
    "import urllib3\n",
    "\n",
    "import sailpoint\n",
    "import sailpoint.v2024\n",
    "from sailpoint.configuration import (Configuration, ConfigurationParams)\n",
    "from sailpoint.paginator import Paginator\n",
    "\n",
    "from pyspark.sql.functions import lit\n",
    "from pyspark.sql.types import StructType, StructField, StringType, BooleanType, TimestampType, MapType, DateType, ArrayType, IntegerType"
   ]
  },
  {
   "cell_type": "code",
   "execution_count": 0,
   "metadata": {
    "application/vnd.databricks.v1+cell": {
     "cellMetadata": {
      "byteLimit": 2048000,
      "rowLimit": 10000
     },
     "inputWidgets": {},
     "nuid": "7407b43e-1d47-4edf-bee9-0de4cb7ffe56",
     "showTitle": true,
     "tableResultSettingsMap": {},
     "title": "Configure Logging"
    }
   },
   "outputs": [],
   "source": [
    "logger = logging.getLogger()\n",
    "logger.setLevel(logging.INFO)\n",
    "\n",
    "# Create console handler and set level to info\n",
    "ch = logging.StreamHandler()\n",
    "ch.setLevel(logging.INFO)\n",
    "\n",
    "# Create formatter\n",
    "formatter = logging.Formatter('%(asctime)s - %(name)s - %(levelname)s - %(message)s')\n",
    "\n",
    "# Add formatter to ch\n",
    "ch.setFormatter(formatter)\n",
    "\n",
    "# Add ch to logger\n",
    "logger.addHandler(ch)"
   ]
  },
  {
   "cell_type": "code",
   "execution_count": 0,
   "metadata": {
    "application/vnd.databricks.v1+cell": {
     "cellMetadata": {
      "byteLimit": 2048000,
      "rowLimit": 10000
     },
     "inputWidgets": {},
     "nuid": "59c8cb19-2f9a-453e-b894-904dca33fc4d",
     "showTitle": true,
     "tableResultSettingsMap": {},
     "title": "Set Job Parameters"
    }
   },
   "outputs": [],
   "source": [
    "tenant = 'devrel-ga-5668'\n",
    "client_name = 'sailpoint-readall-client'\n",
    "secret_name = 'sailpoint-readall-secret'"
   ]
  },
  {
   "cell_type": "code",
   "execution_count": 0,
   "metadata": {
    "application/vnd.databricks.v1+cell": {
     "cellMetadata": {
      "byteLimit": 2048000,
      "rowLimit": 10000
     },
     "inputWidgets": {},
     "nuid": "502da874-52f5-42be-b38e-e68e46f38296",
     "showTitle": true,
     "tableResultSettingsMap": {},
     "title": "Define API URL and Retrieve Tenant Credentials"
    }
   },
   "outputs": [],
   "source": [
    "logger.info('Defining API credentials')\n",
    "api_url = f'https://{tenant}.api.identitynow-demo.com'\n",
    "token_url = f'https://{tenant}.api.identitynow-demo.com/oauth/token'\n",
    "client_id = dbutils.secrets.get(scope='sailpoint-devrel', key=client_name)\n",
    "client_secret = dbutils.secrets.get(scope='sailpoint-devrel', key=secret_name)"
   ]
  },
  {
   "cell_type": "code",
   "execution_count": 0,
   "metadata": {
    "application/vnd.databricks.v1+cell": {
     "cellMetadata": {
      "byteLimit": 2048000,
      "rowLimit": 10000
     },
     "inputWidgets": {},
     "nuid": "acad86e8-2995-4995-b2c2-4535f9d5f9af",
     "showTitle": true,
     "tableResultSettingsMap": {},
     "title": "Configure SailPoint SDK"
    }
   },
   "outputs": [],
   "source": [
    "logger.info('Configuring SailPoint SDK')\n",
    "configurationParams = ConfigurationParams()\n",
    "configurationParams.base_url = api_url\n",
    "configurationParams.token_url = token_url\n",
    "configurationParams.client_id = client_id\n",
    "configurationParams.client_secret = client_secret\n",
    "configuration = Configuration(configurationParams)\n",
    "configuration.experimental = True\n",
    "configuration.retries = urllib3.Retry(\n",
    "    total=5,  # Total number of retries\n",
    "    backoff_factor=10,  # Backoff factor for retry delay\n",
    "    status_forcelist=[429, 500, 502, 503, 504],  # HTTP status codes to retry on\n",
    "    allowed_methods=[\"GET\"]  # HTTP methods to retry\n",
    ")"
   ]
  },
  {
   "cell_type": "code",
   "execution_count": 0,
   "metadata": {
    "application/vnd.databricks.v1+cell": {
     "cellMetadata": {
      "byteLimit": 2048000,
      "rowLimit": 10000
     },
     "inputWidgets": {},
     "nuid": "389ce067-761b-4118-9b5f-cb66770f79c1",
     "showTitle": true,
     "tableResultSettingsMap": {},
     "title": "Setup Schema"
    }
   },
   "outputs": [],
   "source": [
    "workflow_schema = StructType([\n",
    "    StructField(\"name\", StringType(), True),\n",
    "    StructField(\"owner\", MapType(StringType(), StringType(), True), True),\n",
    "    StructField(\"description\", StringType(), True),\n",
    "    StructField(\"start\", StringType(), True),\n",
    "    StructField(\"steps\", MapType(StringType(), StringType(), True), True),\n",
    "    StructField(\"enabled\", BooleanType(), True),\n",
    "    StructField(\"trigger_type\", StringType(), True),\n",
    "    StructField(\"trigger_attributes\", MapType(StringType(), StringType(), True), True),\n",
    "    StructField(\"id\", StringType(), True),\n",
    "    StructField(\"execution_count\", IntegerType(), True),\n",
    "    StructField(\"failure_count\", IntegerType(), True),\n",
    "    StructField(\"created\", TimestampType(), True),\n",
    "    StructField(\"modified\", TimestampType(), True),\n",
    "    StructField(\"modified_by\", MapType(StringType(), StringType(), True), True),\n",
    "    StructField(\"creator\", MapType(StringType(), StringType(), True), True)\n",
    "])"
   ]
  },
  {
   "cell_type": "code",
   "execution_count": 0,
   "metadata": {
    "application/vnd.databricks.v1+cell": {
     "cellMetadata": {
      "byteLimit": 2048000,
      "rowLimit": 10000
     },
     "inputWidgets": {},
     "nuid": "eecda9e2-b67f-4471-815c-99cc70cb0534",
     "showTitle": true,
     "tableResultSettingsMap": {},
     "title": "Get Identities"
    }
   },
   "outputs": [],
   "source": [
    "async def get_all_workflows():\n",
    "    all_workflows = []\n",
    "    with sailpoint.v2024.ApiClient(configuration) as api_client:\n",
    "        api_instance = sailpoint.v2024.WorkflowsApi(api_client)\n",
    "        try:\n",
    "            workflows = api_instance.list_workflows()\n",
    "            for object in workflows:\n",
    "                wflow = object.to_dict()\n",
    "                wflow['owner'] = object.owner.to_dict()\n",
    "                wflow['start'] = object.definition.start\n",
    "                wflow['steps'] = object.definition.steps\n",
    "                if object.trigger is not None:\n",
    "                    wflow['trigger_type'] = object.trigger.type\n",
    "                    wflow['trigger_attributes'] = object.trigger.attributes.to_dict()\n",
    "                if object.modified_by is not None:\n",
    "                    wflow['modified_by'] = object.modified_by.to_dict()\n",
    "                wflow['creator'] = object.creator.to_dict()\n",
    "                all_workflows.append(wflow)\n",
    "        except Exception as e:\n",
    "            print(\"Exception when calling WorkflowsApi->list_workflows: %s\\n\" % e)\n",
    "            \n",
    "    return all_workflows\n"
   ]
  },
  {
   "cell_type": "code",
   "execution_count": 0,
   "metadata": {
    "application/vnd.databricks.v1+cell": {
     "cellMetadata": {
      "byteLimit": 2048000,
      "rowLimit": 10000
     },
     "inputWidgets": {},
     "nuid": "363f9e1f-e140-4347-9c0a-8ee1c25b231b",
     "showTitle": false,
     "tableResultSettingsMap": {},
     "title": ""
    }
   },
   "outputs": [],
   "source": [
    "all_wf = await get_all_workflows()\n",
    "logger.info(f'Total Retrieved Workflows: {len(all_wf)}')"
   ]
  },
  {
   "cell_type": "code",
   "execution_count": 0,
   "metadata": {
    "application/vnd.databricks.v1+cell": {
     "cellMetadata": {
      "byteLimit": 2048000,
      "rowLimit": 10000
     },
     "inputWidgets": {},
     "nuid": "ce818f4b-5cca-490d-a4d4-68f1676dbe69",
     "showTitle": false,
     "tableResultSettingsMap": {},
     "title": ""
    }
   },
   "outputs": [],
   "source": [
    "try:\n",
    "    logger.info('Creating data frame...')\n",
    "    wflows_df = spark.createDataFrame(all_wf, workflow_schema)\n",
    "    today = datetime.utcnow().date()\n",
    "    wflows_df = wflows_df.withColumn('day', lit(today))\n",
    "\n",
    "    logger.info('Writing to delta...')\n",
    "    wflows_df.write \\\n",
    "        .format('delta') \\\n",
    "        .mode('append') \\\n",
    "        .partitionBy('day') \\\n",
    "        .saveAsTable(f'`dunker_databricks_space`.sailpoint.workflows')\n",
    "\n",
    "except Exception as e:\n",
    "    logger.error(f'Error in creating data frame or writing to delta: {e}')"
   ]
  }
 ],
 "metadata": {
  "application/vnd.databricks.v1+notebook": {
   "computePreferences": null,
   "dashboards": [],
   "environmentMetadata": {
    "base_environment": "",
    "environment_version": "2"
   },
   "inputWidgetPreferences": null,
   "language": "python",
   "notebookMetadata": {
    "pythonIndentUnit": 4
   },
   "notebookName": "Object - Workflows",
   "widgets": {}
  },
  "language_info": {
   "name": "python"
  }
 },
 "nbformat": 4,
 "nbformat_minor": 0
}
