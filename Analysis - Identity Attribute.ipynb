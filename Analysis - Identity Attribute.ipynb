{
 "cells": [
  {
   "cell_type": "code",
   "execution_count": 0,
   "metadata": {
    "application/vnd.databricks.v1+cell": {
     "cellMetadata": {
      "byteLimit": 2048000,
      "implicitDf": true,
      "rowLimit": 10000
     },
     "inputWidgets": {},
     "nuid": "5ba17151-a753-438a-be48-4ae4700ac310",
     "showTitle": false,
     "tableResultSettingsMap": {},
     "title": ""
    }
   },
   "outputs": [],
   "source": [
    "%sql\n",
    "-- Select the country, department, and count of identities\n",
    "SELECT \n",
    "    attributes.country, \n",
    "    attributes.department, \n",
    "    COUNT(*) AS identity_count\n",
    "FROM \n",
    "    dunker_databricks_space.sailpoint.identities\n",
    "-- Filter to get the records for the most recent day\n",
    "WHERE \n",
    "    day = (SELECT MAX(day) FROM dunker_databricks_space.sailpoint.identities)\n",
    "    AND attributes.country IS NOT NULL\n",
    "-- Group by country and department to get the count per group\n",
    "GROUP BY \n",
    "    attributes.country, \n",
    "    attributes.department"
   ]
  },
  {
   "cell_type": "code",
   "execution_count": 0,
   "metadata": {
    "application/vnd.databricks.v1+cell": {
     "cellMetadata": {
      "byteLimit": 2048000,
      "rowLimit": 10000
     },
     "inputWidgets": {},
     "nuid": "64dc7ab0-8c0e-4f70-9a97-a688f4fddeaa",
     "showTitle": false,
     "tableResultSettingsMap": {},
     "title": ""
    }
   },
   "outputs": [],
   "source": [
    "# Import the Plotly Express library for creating visualizations\n",
    "import plotly.express as px\n",
    "\n",
    "# Assign the SQL query result to a DataFrame\n",
    "df = _sqldf\n",
    "\n",
    "# Create a sunburst chart with 'country' and 'department' as the hierarchical path\n",
    "# 'identity_count' is used as the values for the size of the sectors\n",
    "# Set the width and height of the chart to 800 pixels\n",
    "fig = px.sunburst(\n",
    "    df, \n",
    "    path=['country', 'department'], \n",
    "    values='identity_count', \n",
    "    width=800, \n",
    "    height=800\n",
    ")\n",
    "\n",
    "# Display the sunburst chart\n",
    "fig.show()"
   ]
  },
  {
   "cell_type": "code",
   "execution_count": 0,
   "metadata": {
    "application/vnd.databricks.v1+cell": {
     "cellMetadata": {
      "byteLimit": 2048000,
      "rowLimit": 10000
     },
     "inputWidgets": {},
     "nuid": "c110b043-49a4-4eeb-a3fe-8f524cb64dd3",
     "showTitle": false,
     "tableResultSettingsMap": {},
     "title": ""
    }
   },
   "outputs": [],
   "source": [
    "# Import the Plotly Express library for creating visualizations\n",
    "import plotly.express as px\n",
    "\n",
    "# Assign the SQL query result to a DataFrame\n",
    "df = _sqldf\n",
    "\n",
    "# Create a sunburst chart with 'department' and 'country' as the hierarchical path\n",
    "# 'identity_count' is used as the values for the size of the sectors\n",
    "# Set the width and height of the chart to 800 pixels\n",
    "fig = px.sunburst(\n",
    "    df, \n",
    "    path=['department', 'country'], \n",
    "    values='identity_count', \n",
    "    width=800, \n",
    "    height=800\n",
    ")\n",
    "\n",
    "# Display the sunburst chart\n",
    "fig.show()"
   ]
  }
 ],
 "metadata": {
  "application/vnd.databricks.v1+notebook": {
   "computePreferences": null,
   "dashboards": [],
   "environmentMetadata": {
    "base_environment": "",
    "environment_version": "2"
   },
   "inputWidgetPreferences": null,
   "language": "python",
   "notebookMetadata": {
    "mostRecentlyExecutedCommandWithImplicitDF": {
     "commandId": 5696990466639460,
     "dataframes": [
      "_sqldf"
     ]
    },
    "pythonIndentUnit": 4
   },
   "notebookName": "Analysis - Identity Attribute",
   "widgets": {}
  },
  "language_info": {
   "name": "python"
  }
 },
 "nbformat": 4,
 "nbformat_minor": 0
}
