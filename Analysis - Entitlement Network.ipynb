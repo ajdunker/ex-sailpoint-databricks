{
 "cells": [
  {
   "cell_type": "code",
   "execution_count": 0,
   "metadata": {
    "application/vnd.databricks.v1+cell": {
     "cellMetadata": {
      "byteLimit": 2048000,
      "implicitDf": true,
      "rowLimit": 10000
     },
     "inputWidgets": {},
     "nuid": "d170d452-c576-4b25-a04e-f7e02567c549",
     "showTitle": true,
     "tableResultSettingsMap": {},
     "title": "Create a view of Entitlement Pairs"
    }
   },
   "outputs": [],
   "source": [
    "%sql\n",
    "-- Create a view for pairs of entitlements\n",
    "create or replace view access_pairs as\n",
    "select distinct\n",
    "  identityId\n",
    "  ,case when e1 > e2 then e2 else e1 end as e1\n",
    "  ,case when e1 < e2 then e2 else e1 end as e2\n",
    "  from (\n",
    "    select e1.identityId, e1.id as e1, e1.name, e2.id as e2, e2.name\n",
    "    -- Filter on entitlements, the most recent day version, and remove birthright items\n",
    "    from\n",
    "      (select identityId, id, name from dunker_databricks_space.sailpoint.access_assignments WHERE day = (SELECT MAX(day) FROM dunker_databricks_space.sailpoint.access_assignments) AND type = 'ENTITLEMENT' AND name not like 'Birthright-%' AND name != 'All_Users') e1\n",
    "    inner join\n",
    "      (select identityId, id, name from dunker_databricks_space.sailpoint.access_assignments WHERE day = (SELECT MAX(day) FROM dunker_databricks_space.sailpoint.access_assignments) AND type = 'ENTITLEMENT' AND name not like 'Birthright-%' AND name != 'All_Users') e2\n",
    "    on e1.identityId = e2.identityId\n",
    "    and e1.id != e2.id\n",
    "  )"
   ]
  },
  {
   "cell_type": "code",
   "execution_count": 0,
   "metadata": {
    "application/vnd.databricks.v1+cell": {
     "cellMetadata": {
      "byteLimit": 2048000,
      "implicitDf": true,
      "rowLimit": 10000
     },
     "inputWidgets": {},
     "nuid": "9d214b05-8891-481f-90a0-779dc5f08747",
     "showTitle": true,
     "tableResultSettingsMap": {},
     "title": "Create a view to extract the nodes"
    }
   },
   "outputs": [],
   "source": [
    "%sql\n",
    "-- Create a vew that represents the nodes\n",
    "create or replace view nodes as\n",
    "select id, name, count(1) as `size`\n",
    "from sailpoint.access_assignments\n",
    "WHERE day = (SELECT MAX(day) FROM dunker_databricks_space.sailpoint.access_assignments)\n",
    "AND type = 'ENTITLEMENT' AND name not like 'Birthright-%' AND name != 'All_Users'\n",
    "group by id, name\n",
    "having count(1) > 10"
   ]
  },
  {
   "cell_type": "code",
   "execution_count": 0,
   "metadata": {
    "application/vnd.databricks.v1+cell": {
     "cellMetadata": {
      "byteLimit": 2048000,
      "rowLimit": 10000
     },
     "inputWidgets": {},
     "nuid": "e9aa510d-4db5-4bca-90b4-b6695df8b771",
     "showTitle": true,
     "tableResultSettingsMap": {},
     "title": "Convert nodes to JSON"
    }
   },
   "outputs": [],
   "source": [
    "%python\n",
    "import json\n",
    "df = spark.sql('select id, name, size from nodes')\n",
    "nodes = df.toJSON().map(lambda j: json.loads(j)).collect()\n",
    "#print(nodes)"
   ]
  },
  {
   "cell_type": "code",
   "execution_count": 0,
   "metadata": {
    "application/vnd.databricks.v1+cell": {
     "cellMetadata": {
      "byteLimit": 2048000,
      "implicitDf": true,
      "rowLimit": 10000
     },
     "inputWidgets": {},
     "nuid": "9e7afbe8-1f33-490a-ac06-d07df8cc1f0e",
     "showTitle": true,
     "tableResultSettingsMap": {},
     "title": "Create a view of the edges"
    }
   },
   "outputs": [],
   "source": [
    "%sql\n",
    "create or replace view edges as\n",
    "select\n",
    "  e1 as `source`\n",
    "  ,e2 as `target`\n",
    "  ,count(1) as `weight`\n",
    "from access_pairs\n",
    "where e1 in (select id from nodes)\n",
    "and e2 in (select id from nodes)\n",
    "group by e1, e2\n",
    "order by count(1) desc"
   ]
  },
  {
   "cell_type": "code",
   "execution_count": 0,
   "metadata": {
    "application/vnd.databricks.v1+cell": {
     "cellMetadata": {
      "byteLimit": 2048000,
      "rowLimit": 10000
     },
     "inputWidgets": {},
     "nuid": "2993687d-b1cd-4f49-b87a-520fa12498b1",
     "showTitle": true,
     "tableResultSettingsMap": {},
     "title": "Convert to JSON"
    }
   },
   "outputs": [],
   "source": [
    "%python\n",
    "import json\n",
    "df = spark.sql('select source, target, weight from edges')\n",
    "edges = df.toJSON().map(lambda j: json.loads(j)).collect()\n",
    "#print(edges)"
   ]
  },
  {
   "cell_type": "code",
   "execution_count": 0,
   "metadata": {
    "application/vnd.databricks.v1+cell": {
     "cellMetadata": {
      "byteLimit": 2048000,
      "rowLimit": 10000
     },
     "inputWidgets": {},
     "nuid": "a6dac98d-eea9-4d46-b56c-d2e54971078e",
     "showTitle": true,
     "tableResultSettingsMap": {},
     "title": "Create a visualization"
    },
    "jupyter": {
     "source_hidden": true
    }
   },
   "outputs": [],
   "source": [
    "%python\n",
    "html = \"\"\"\n",
    "  <html>\n",
    "  <head>\n",
    "  <meta charset=\"utf-8\" />\n",
    "  <script src=\"https://d3js.org/d3-force.v1.min.js\"></script>\n",
    "  <script src=\"https://d3js.org/d3.v4.min.js\"></script>\n",
    "\n",
    "</head>\n",
    "  <body>\n",
    "\n",
    "    <div id=\"graphDiv\"></div>\n",
    "\n",
    "<hr/>\n",
    "\n",
    "    <button onclick=\"download('png')\">\n",
    "      Download PNG\n",
    "    </button>\n",
    "\n",
    "    <button onclick=\"download('jpg')\">\n",
    "      Download JPG\n",
    "    </button>\n",
    "\n",
    "\n",
    " <script>\n",
    "      var data = { nodes: %s, links: %s };\n",
    "   \n",
    "   \n",
    "      // Get the maximum weight for an edge\n",
    "      var maxWeight = 0;\n",
    "      for (var i = 0; i < data.links.length; i++) {\n",
    "        if (maxWeight < data.links[i].weight) maxWeight = data.links[i].weight;\n",
    "      }\n",
    "\n",
    "      var height = 1000;\n",
    "      var width = 2000;\n",
    "      \n",
    "\n",
    "      // Append the canvas to the HTML document\n",
    "      var graphCanvas = d3\n",
    "        .select(\"#graphDiv\")\n",
    "        .append(\"canvas\")\n",
    "        .attr(\"width\", width + \"px\")\n",
    "        .attr(\"height\", height + \"px\")\n",
    "        .node();\n",
    "\n",
    "      var context = graphCanvas.getContext(\"2d\");\n",
    "\n",
    "      var div = d3\n",
    "        .select(\"body\")\n",
    "        .append(\"div\")\n",
    "        .attr(\"class\", \"tooltip\")\n",
    "        .style(\"opacity\", 0);\n",
    "\n",
    "      var simulation = d3\n",
    "        .forceSimulation()\n",
    "        .force(\n",
    "          \"link\",\n",
    "          d3\n",
    "            .forceLink()\n",
    "            .id(function(d) {\n",
    "              return d.id;\n",
    "            })\n",
    "            .distance(function(d) {\n",
    "              return 15 * (maxWeight - d.weight);\n",
    "            })\n",
    "            .strength(function(d) {\n",
    "              return 1 * (d.weight / maxWeight);;\n",
    "            })\n",
    "        )\n",
    "        .force(\"charge\", d3.forceManyBody().strength(-750))\n",
    "        .force(\"center\", d3.forceCenter(width / 2, height / 2))\n",
    "        .force(\"x\", d3.forceX(width / 2).strength(0.01))\n",
    "        .force(\"y\", d3.forceY(height / 2).strength(0.01))\n",
    "        .alphaTarget(0)\n",
    "        .alphaDecay(0.05);\n",
    "\n",
    "      var transform = d3.zoomIdentity;\n",
    "\n",
    "      initGraph(data);\n",
    "\n",
    "      function initGraph(tempData) {\n",
    "        function zoomed() {\n",
    "          console.log(\"zooming\");\n",
    "          transform = d3.event.transform;\n",
    "          simulationUpdate();\n",
    "        }\n",
    "\n",
    "        d3.select(graphCanvas)\n",
    "          .call(\n",
    "            d3\n",
    "              .drag()\n",
    "              .subject(dragsubject)\n",
    "              .on(\"start\", dragstarted)\n",
    "              .on(\"drag\", dragged)\n",
    "              .on(\"end\", dragended)\n",
    "          )\n",
    "          .call(\n",
    "            d3\n",
    "              .zoom()\n",
    "              .scaleExtent([1 / 10, 8])\n",
    "              .on(\"zoom\", zoomed)\n",
    "          );\n",
    "\n",
    "        function dragsubject() {\n",
    "          var i,\n",
    "            x = transform.invertX(d3.event.x),\n",
    "            y = transform.invertY(d3.event.y),\n",
    "            dx,\n",
    "            dy;\n",
    "          for (i = tempData.nodes.length - 1; i >= 0; --i) {\n",
    "            node = tempData.nodes[i];\n",
    "            dx = x - node.x;\n",
    "            dy = y - node.y;\n",
    "\n",
    "            let radius = Math.min(30, node.size)\n",
    "            if (dx * dx + dy * dy < radius * radius) {\n",
    "              node.x = transform.applyX(node.x);\n",
    "              node.y = transform.applyY(node.y);\n",
    "\n",
    "              return node;\n",
    "            }\n",
    "          }\n",
    "        }\n",
    "\n",
    "        function dragstarted() {\n",
    "          if (!d3.event.active) simulation.alphaTarget(0.3).restart();\n",
    "          d3.event.subject.fx = transform.invertX(d3.event.x);\n",
    "          d3.event.subject.fy = transform.invertY(d3.event.y);\n",
    "        }\n",
    "\n",
    "        function dragged() {\n",
    "          d3.event.subject.fx = transform.invertX(d3.event.x);\n",
    "          d3.event.subject.fy = transform.invertY(d3.event.y);\n",
    "        }\n",
    "\n",
    "        function dragended() {\n",
    "          if (!d3.event.active) simulation.alphaTarget(0);\n",
    "          d3.event.subject.fx = null;\n",
    "          d3.event.subject.fy = null;\n",
    "        }\n",
    "\n",
    "        simulation.nodes(tempData.nodes).on(\"tick\", simulationUpdate);\n",
    "\n",
    "        simulation.force(\"link\").links(tempData.links);\n",
    "\n",
    "        function render() {}\n",
    "\n",
    "        function simulationUpdate() {\n",
    "          context.save();\n",
    "\n",
    "          context.clearRect(0, 0, width, height);\n",
    "          context.translate(transform.x, transform.y);\n",
    "          context.scale(transform.k, transform.k);\n",
    "\n",
    "          // Draw the links\n",
    "          tempData.links.forEach(function(d) {\n",
    "            context.beginPath();\n",
    "            context.lineWidth = Math.min(d.weight, 40);\n",
    "            context.strokeStyle = \"rgba(0, 158, 227, .3)\";\n",
    "            context.moveTo(d.source.x, d.source.y);\n",
    "            context.lineTo(d.target.x, d.target.y);\n",
    "            context.stroke();\n",
    "          });\n",
    "\n",
    "          // Draw the nodes\n",
    "          tempData.nodes.forEach(function(d, i) {\n",
    "            context.beginPath();\n",
    "            context.arc(d.x, d.y, Math.min(30, d.size), 0, 2 * Math.PI, true);\n",
    "            context.fillStyle = \"rgba(0, 158, 227, 0.8)\";\n",
    "            context.fill();\n",
    "            context.fillStyle = \"rgba(0, 0, 0, 1)\";\n",
    "            context.fillText(d.name, d.x + 10, d.y);\n",
    "          });\n",
    "\n",
    "          context.restore();\n",
    "          \n",
    "        }\n",
    "      }\n",
    "      \n",
    "    function download(type) {\n",
    "        var canvas = document.querySelector(\"canvas\");\n",
    "\n",
    "        var imgUrl;\n",
    "        \n",
    "        if (type === \"png\") \n",
    "          imgUrl = canvas.toDataURL(\"image/png\");\n",
    "        else if (type === \"jpg\") \n",
    "          imgUrl = canvas.toDataURL(\"image/png\");\n",
    "\n",
    "        window.open().document.write('<img src=\"' + imgUrl + '\" />');\n",
    "      }\n",
    "    </script>\n",
    "    \n",
    "  </body>\n",
    "</html>\n",
    "\"\"\" % (nodes, edges)\n",
    "\n",
    "#print(html)\n",
    "displayHTML(html)"
   ]
  }
 ],
 "metadata": {
  "application/vnd.databricks.v1+notebook": {
   "computePreferences": null,
   "dashboards": [],
   "environmentMetadata": {
    "base_environment": "",
    "environment_version": "2"
   },
   "inputWidgetPreferences": null,
   "language": "python",
   "notebookMetadata": {
    "mostRecentlyExecutedCommandWithImplicitDF": {
     "commandId": 1640706612117824,
     "dataframes": [
      "_sqldf"
     ]
    },
    "pythonIndentUnit": 4
   },
   "notebookName": "Analysis - Entitlement Network",
   "widgets": {}
  },
  "language_info": {
   "name": "python"
  }
 },
 "nbformat": 4,
 "nbformat_minor": 0
}
